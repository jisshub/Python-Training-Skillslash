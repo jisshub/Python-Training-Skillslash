{
  "cells":[
    {
      "cell_type":"code",
      "source":[
        "# 1. WAP in python which accepts string from the user and displays only those \n",
        "# characters\/elements which are present at an even index.\n",
        "# Example: Input: \"Python\"\n",
        "# \tOutput: Pto"
      ],
      "execution_count":1,
      "outputs":[
        
      ],
      "metadata":{
        
      }
    },
    {
      "cell_type":"code",
      "source":[
        "def get_string():\n",
        "    inp = input('Enter input: ')\n",
        "    result =''\n",
        "    for i in inp:\n",
        "        if inp.index(i) % 2==0:\n",
        "            result+=i\n",
        "    return result\n",
        "print(get_string())"
      ],
      "execution_count":17,
      "outputs":[
        {
          "name":"stdout",
          "text":[
            "Enter input:  jissmon\n",
            "jssmn\n"
          ],
          "output_type":"stream"
        }
      ],
      "metadata":{
        
      }
    },
    {
      "cell_type":"code",
      "source":[
        "# 2. WAP in python to calculate the number of times a character is repeated \n",
        "# in a given string. Take the string and character from the user.\n",
        "# Example: Input String: \"Neil Nitin Mukesh\"\n",
        "# \tInput Character: \"e\"\n",
        "# \tOutput: 2"
      ],
      "execution_count":0,
      "outputs":[
        
      ],
      "metadata":{
        
      }
    },
    {
      "cell_type":"code",
      "source":[
        "def count_appearance():\n",
        "    count = 0\n",
        "    user_inp = input('Enter String: ')\n",
        "    search_pattern = input('Enter Search Pattern: ')\n",
        "    while len(search_pattern) != 1:\n",
        "        search_pattern = input('Enter Search Pattern: ')    \n",
        "    for u in user_inp:\n",
        "        if u == search_pattern:\n",
        "            count+=1\n",
        "    return count\n",
        "print(count_appearance())"
      ],
      "execution_count":16,
      "outputs":[
        {
          "name":"stdout",
          "text":[
            "Enter String:  kerin\n",
            "Enter Search Pattern:  sfsdf\n",
            "Enter Search Pattern:  sdfd\n",
            "Enter Search Pattern:  w\n",
            "0\n"
          ],
          "output_type":"stream"
        }
      ],
      "metadata":{
        
      }
    },
    {
      "cell_type":"code",
      "source":[
        "# 3. WAP in python to compare two strings and tell the user if both of those \n",
        "# strings are same or not. Ignore their casing.\n",
        "# Example: Input String1: \"Hello\"\n",
        "# \tInput String2: \"hello\"\n",
        "# \tOutput: Strings are same"
      ],
      "execution_count":18,
      "outputs":[
        
      ],
      "metadata":{
        
      }
    },
    {
      "cell_type":"code",
      "source":[
        "def compare_two(string1, string2):\n",
        "    if string1.lower() == string2.lower():\n",
        "        return \"Same\"\n",
        "print(compare_two('hello', 'HELLO'))"
      ],
      "execution_count":22,
      "outputs":[
        {
          "name":"stdout",
          "text":[
            "Same\n"
          ],
          "output_type":"stream"
        }
      ],
      "metadata":{
        
      }
    },
    {
      "cell_type":"code",
      "source":[
        "# 4. WAP in python to check and print the features of the password input by the \n",
        "# user. Example: Input: \"Qwerty@123\"  or \"qwerty@123\"\n",
        "# \tOutput: Length minimum of 8 characters, Combination of upper case & \n",
        "# \t\tlower case characters, Combination of alphabets & digits,\n",
        "# \t\tUse of Special Characters"
      ],
      "execution_count":23,
      "outputs":[
        
      ],
      "metadata":{
        
      }
    },
    {
      "cell_type":"code",
      "source":[
        "def password_features():\n",
        "    user_inp = input('Enter Your Password: ')\n",
        "    length = len(user_inp)\n",
        "    msg_2 = ''\n",
        "    msg_3 = ''\n",
        "    msg_4 = ''\n",
        "    msg_1 = f'Length minimum of {length} characters'\n",
        "    for char in user_inp:\n",
        "        if char.isupper() | char.islower():\n",
        "            msg_2 = 'Combination of upper case and lower case'  \n",
        "        if char.isalnum():\n",
        "            msg_3 = 'Combination of alphabets & digits'\n",
        "    if user_inp.isascii():\n",
        "        msg_4 = 'Use of Special Characters'\n",
        "    return f'{msg_1}, {msg_2}, {msg_3}, {msg_4}'\n",
        "print(password_features())"
      ],
      "execution_count":20,
      "outputs":[
        {
          "name":"stdout",
          "text":[
            "Enter Your Password:  asdhg@@HH781\n",
            "Length minimum of 12 characters, Combination of upper case and lower case, Combination of alphabets & digits, Use of Special Characters\n"
          ],
          "output_type":"stream"
        }
      ],
      "metadata":{
        
      }
    },
    {
      "cell_type":"code",
      "source":[
        "# 5. WAP in python to capitalize the first letter of the First Name \n",
        "# and Surname where whole name is taken as input from the user.\n",
        "# Example: Input: \"first last\" or \"FIRST LAST\" or \"first lAst\" i.e.\n",
        "# \t\tInput can be in any case.\n",
        "# \tOutput: \"First Last\""
      ],
      "execution_count":15,
      "outputs":[
        {
          "data":{
            "text\/plain":[
              "False"
            ]
          },
          "metadata":{
            
          },
          "output_type":"display_data"
        }
      ],
      "metadata":{
        
      }
    },
    {
      "cell_type":"code",
      "source":[
        "def change_first_char():\n",
        "    data = input('Enter String: ')\n",
        "    name_list = data.split()\n",
        "    for n in name_list:\n",
        "        if n[0].isupper():\n",
        "            print(n[0], 'upper')\n",
        "    return data\n",
        "print(change_first_char())"
      ],
      "execution_count":23,
      "outputs":[
        {
          "name":"stdout",
          "text":[
            "Enter String:  Jissmon Shaju\n",
            "J upper\n",
            "S upper\n",
            "Jissmon Shaju\n"
          ],
          "output_type":"stream"
        }
      ],
      "metadata":{
        
      }
    },
    {
      "cell_type":"markdown",
      "source":[
        "\n",
        "6. WAP in python to find the number of vowels, consonants, digits, special \n",
        "characters and white space characters in a string input by the user.\n",
        "Example: Input: \"Qwerty@123\"\n",
        "\toutput: v = 1, c = 5, d = 3, w = 0, s = 1"
      ],
      "attachments":{
        
      },
      "metadata":{
        
      }
    },
    {
      "cell_type":"code",
      "source":[
        "def find_occurence():\n",
        "    v_dict = {}\n",
        "    count = 1\n",
        "    sp,s,v,c,d=0,0,0,0,0\n",
        "    special_characters = \"!@#$%^&*()-+?_=,<>\/\"\n",
        "    get_value = input('Enter String: ')\n",
        "    for val in get_value:\n",
        "        if val in ['a', 'e', 'i', 'o', 'u']:\n",
        "            v+=count\n",
        "        elif 'a' < val <  'z':\n",
        "            c+=count\n",
        "        elif val.isdigit():\n",
        "            d+=count\n",
        "        if val in special_characters:\n",
        "            s+=count\n",
        "        if val.isspace():\n",
        "            sp += count\n",
        "    v_dict['v'] = v\n",
        "    v_dict['c'] = c\n",
        "    v_dict['d'] = d\n",
        "    v_dict['s'] = s\n",
        "    v_dict['w'] = sp\n",
        "    return v_dict\n",
        "print(find_occurence())\n",
        "        \n"
      ],
      "execution_count":26,
      "outputs":[
        {
          "name":"stdout",
          "text":[
            "Enter String:    jissmon476@@  \n",
            "{'v': 2, 'c': 5, 'd': 3, 's': 2, 'w': 4}\n"
          ],
          "output_type":"stream"
        }
      ],
      "metadata":{
        
      }
    },
    {
      "cell_type":"code",
      "source":[
        
      ],
      "execution_count":0,
      "outputs":[
        
      ],
      "metadata":{
        
      }
    }
  ],
  "metadata":{
    
  },
  "nbformat":4,
  "nbformat_minor":0
}